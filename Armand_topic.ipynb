{
 "cells": [
  {
   "cell_type": "markdown",
   "id": "3d90b7e8",
   "metadata": {},
   "source": [
    "# Python Proficiency for Statistics\n"
   ]
  },
  {
   "cell_type": "markdown",
   "id": "c3f60d02",
   "metadata": {},
   "source": [
    "Generate Synthetic Dataset on Exercise and Blood Pressure\n",
    "\n",
    "1.     Create a Python script that generates a synthetic dataset matching the description of your study. The dataset should be saved as a CSV file named \"exercise_data.csv\"."
   ]
  },
  {
   "cell_type": "code",
   "execution_count": 44,
   "id": "617e24dc",
   "metadata": {},
   "outputs": [],
   "source": [
    "import pandas as pd\n",
    "import numpy as np\n",
    "\n",
    "\n",
    "# Number of participants\n",
    "num_participants = 100\n",
    "\n",
    "# Exercise groups\n",
    "exercise_groups = [\"jogging\", \"weightlifting\", \"yoga\"]\n",
    "\n",
    "# Generate synthetic data\n",
    "participant_ids = np.arange(1, num_participants + 1)\n",
    "exercise_group_data = np.random.choice(exercise_groups, num_participants)\n",
    "pre_bp_data = np.random.normal(loc=120, scale=5, size=num_participants)\n",
    "post_bp_data = np.random.normal(loc=120, scale=5, size=num_participants)\n",
    "\n",
    "# Create a DataFrame\n",
    "df = pd.DataFrame({\n",
    "    'Participant ID': participant_ids,\n",
    "    'Exercise group': exercise_group_data,\n",
    "    'Pre-exercise systolic blood pressure': pre_bp_data,\n",
    "    'Post-exercise systolic blood pressure': post_bp_data\n",
    "})\n",
    "\n",
    "# Save the dataset to a CSV file\n",
    "df.to_csv('exercise_data.csv')"
   ]
  },
  {
   "cell_type": "markdown",
   "id": "febe0925",
   "metadata": {},
   "source": [
    "In this task, the script uses the NumPy library to generate random data representing participants, exercise groups, and blood pressure measurements before and after exercise. The dataset is then saved in a CSV file.\n",
    "\n",
    "Code explanation:\n",
    "The line of code \"np.arange(1, num_participants + 1)\" is a NumPy function call that creates an array containing a sequence of numbers. Let's break down what this line does:\n",
    "\n",
    "    arange(): This is a function provided by NumPy that generates a sequence of numbers within a specified range.\n",
    "    \n",
    "The line of code \"np.random.choice(exercise_groups, num_participants)\" is a call to NumPy's random module that selects items randomly from the given exercise_groups array to create an array of exercise group assignments for the participants in the study. \n",
    "The line of code np.random.normal(loc=120, scale=5, size=num_participants) generates a random array of numbers sampled from a normal distribution.\n",
    "\n",
    "        loc=120: This parameter specifies the mean of the normal distribution. In this case, it is set to 120, which means that the distribution is centered around 120. This number was chosen because the average blood pressure of a human being is 120.\n",
    "\n",
    "    scale=5: This parameter specifies the standard deviation of the normal distribution.\n",
    "\n",
    "subsequently, the table was created and saved\n",
    "   \n"
   ]
  },
  {
   "cell_type": "code",
   "execution_count": 45,
   "id": "65c0f860",
   "metadata": {},
   "outputs": [
    {
     "data": {
      "text/html": [
       "<div>\n",
       "<style scoped>\n",
       "    .dataframe tbody tr th:only-of-type {\n",
       "        vertical-align: middle;\n",
       "    }\n",
       "\n",
       "    .dataframe tbody tr th {\n",
       "        vertical-align: top;\n",
       "    }\n",
       "\n",
       "    .dataframe thead th {\n",
       "        text-align: right;\n",
       "    }\n",
       "</style>\n",
       "<table border=\"1\" class=\"dataframe\">\n",
       "  <thead>\n",
       "    <tr style=\"text-align: right;\">\n",
       "      <th></th>\n",
       "      <th>Participant ID</th>\n",
       "      <th>Exercise group</th>\n",
       "      <th>Pre-exercise systolic blood pressure</th>\n",
       "      <th>Post-exercise systolic blood pressure</th>\n",
       "    </tr>\n",
       "  </thead>\n",
       "  <tbody>\n",
       "    <tr>\n",
       "      <th>0</th>\n",
       "      <td>1</td>\n",
       "      <td>weightlifting</td>\n",
       "      <td>114.722231</td>\n",
       "      <td>101.692316</td>\n",
       "    </tr>\n",
       "    <tr>\n",
       "      <th>1</th>\n",
       "      <td>2</td>\n",
       "      <td>weightlifting</td>\n",
       "      <td>127.714390</td>\n",
       "      <td>122.006518</td>\n",
       "    </tr>\n",
       "    <tr>\n",
       "      <th>2</th>\n",
       "      <td>3</td>\n",
       "      <td>weightlifting</td>\n",
       "      <td>101.040352</td>\n",
       "      <td>123.625708</td>\n",
       "    </tr>\n",
       "    <tr>\n",
       "      <th>3</th>\n",
       "      <td>4</td>\n",
       "      <td>weightlifting</td>\n",
       "      <td>121.702984</td>\n",
       "      <td>133.684220</td>\n",
       "    </tr>\n",
       "    <tr>\n",
       "      <th>4</th>\n",
       "      <td>5</td>\n",
       "      <td>weightlifting</td>\n",
       "      <td>130.329639</td>\n",
       "      <td>131.881457</td>\n",
       "    </tr>\n",
       "    <tr>\n",
       "      <th>...</th>\n",
       "      <td>...</td>\n",
       "      <td>...</td>\n",
       "      <td>...</td>\n",
       "      <td>...</td>\n",
       "    </tr>\n",
       "    <tr>\n",
       "      <th>95</th>\n",
       "      <td>96</td>\n",
       "      <td>jogging</td>\n",
       "      <td>119.946026</td>\n",
       "      <td>110.574346</td>\n",
       "    </tr>\n",
       "    <tr>\n",
       "      <th>96</th>\n",
       "      <td>97</td>\n",
       "      <td>jogging</td>\n",
       "      <td>130.383888</td>\n",
       "      <td>117.781391</td>\n",
       "    </tr>\n",
       "    <tr>\n",
       "      <th>97</th>\n",
       "      <td>98</td>\n",
       "      <td>weightlifting</td>\n",
       "      <td>125.054241</td>\n",
       "      <td>124.216845</td>\n",
       "    </tr>\n",
       "    <tr>\n",
       "      <th>98</th>\n",
       "      <td>99</td>\n",
       "      <td>weightlifting</td>\n",
       "      <td>133.094729</td>\n",
       "      <td>115.647778</td>\n",
       "    </tr>\n",
       "    <tr>\n",
       "      <th>99</th>\n",
       "      <td>100</td>\n",
       "      <td>yoga</td>\n",
       "      <td>114.318577</td>\n",
       "      <td>127.505869</td>\n",
       "    </tr>\n",
       "  </tbody>\n",
       "</table>\n",
       "<p>100 rows × 4 columns</p>\n",
       "</div>"
      ],
      "text/plain": [
       "    Participant ID Exercise group  Pre-exercise systolic blood pressure  \\\n",
       "0                1  weightlifting                            114.722231   \n",
       "1                2  weightlifting                            127.714390   \n",
       "2                3  weightlifting                            101.040352   \n",
       "3                4  weightlifting                            121.702984   \n",
       "4                5  weightlifting                            130.329639   \n",
       "..             ...            ...                                   ...   \n",
       "95              96        jogging                            119.946026   \n",
       "96              97        jogging                            130.383888   \n",
       "97              98  weightlifting                            125.054241   \n",
       "98              99  weightlifting                            133.094729   \n",
       "99             100           yoga                            114.318577   \n",
       "\n",
       "    Post-exercise systolic blood pressure  \n",
       "0                              101.692316  \n",
       "1                              122.006518  \n",
       "2                              123.625708  \n",
       "3                              133.684220  \n",
       "4                              131.881457  \n",
       "..                                    ...  \n",
       "95                             110.574346  \n",
       "96                             117.781391  \n",
       "97                             124.216845  \n",
       "98                             115.647778  \n",
       "99                             127.505869  \n",
       "\n",
       "[100 rows x 4 columns]"
      ]
     },
     "execution_count": 45,
     "metadata": {},
     "output_type": "execute_result"
    }
   ],
   "source": [
    "df"
   ]
  },
  {
   "cell_type": "code",
   "execution_count": 46,
   "id": "d2bc9cc7",
   "metadata": {},
   "outputs": [
    {
     "name": "stdout",
     "output_type": "stream",
     "text": [
      "Highest pre-exercise systolic blood pressure in jogging group: Participant 71 (BP: 137.6986242067697)\n",
      "Highest pre-exercise systolic blood pressure in weightlifting group: Participant 60 (BP: 146.63182350119823)\n",
      "Highest pre-exercise systolic blood pressure in yoga group: Participant 70 (BP: 140.100092893)\n"
     ]
    }
   ],
   "source": [
    "# Read the CSV file\n",
    "df = pd.read_csv('exercise_data.csv')\n",
    "\n",
    "# Group the data by exercise group\n",
    "grouped_data = df.groupby('Exercise group')\n",
    "\n",
    "# Iterate over each group and find the participant with the highest pre-exercise blood pressure\n",
    "for group_name, group_data in grouped_data:\n",
    "    max_pre_bp_index = group_data['Pre-exercise systolic blood pressure'].idxmax()\n",
    "    max_pre_bp_participant = group_data.loc[max_pre_bp_index, 'Participant ID']\n",
    "    max_pre_bp_value = group_data.loc[max_pre_bp_index, 'Pre-exercise systolic blood pressure']\n",
    "    print(f\"Highest pre-exercise systolic blood pressure in {group_name} group: Participant {max_pre_bp_participant} (BP: {max_pre_bp_value})\")"
   ]
  },
  {
   "cell_type": "markdown",
   "id": "53da5053",
   "metadata": {},
   "source": [
    "In this task, a Python script is used to read the CSV file containing the study data. The data is then grouped by exercise group using the Pandas library. Then, for each group, the participant with the highest pre-exercise blood pressure is identified and their details are displayed.\n",
    "The line of code grouped_data = df.groupby('Exercise group') in Python with pandas creates a grouped object based on the 'Exercise group' column in the DataFrame 'df'. \n",
    "\n",
    "    .groupby('Exercise group'): This is a method provided by pandas that groups the DataFrame by a specified column, in this case, the 'Exercise group' column. It creates a DataFrameGroupBy object, which splits the original DataFrame into groups based on the unique values in the specified column.\n",
    "    max_pre_bp_index = group_data['Pre-exercise systolic blood pressure'].idxmax(): This line finds the index of the row with the maximum value in the 'Pre-exercise systolic blood pressure' column within the current group (group_data).\n",
    "    max_pre_bp_participant = group_data.loc[max_pre_bp_index, 'Participant ID']: This line retrieves the 'Participant ID' of the participant with the highest pre-exercise systolic blood pressure within the current group.\n",
    "\n",
    "    max_pre_bp_value = group_data.loc[max_pre_bp_index, 'Pre-exercise systolic blood pressure']: This line retrieves the actual value of the highest pre-exercise systolic blood pressure within the current group."
   ]
  },
  {
   "cell_type": "code",
   "execution_count": 47,
   "id": "1644bb80",
   "metadata": {},
   "outputs": [
    {
     "name": "stdout",
     "output_type": "stream",
     "text": [
      "    Unnamed: 0  Participant ID Exercise group  \\\n",
      "59          59              60  weightlifting   \n",
      "49          49              50  weightlifting   \n",
      "69          69              70           yoga   \n",
      "63          63              64           yoga   \n",
      "70          70              71        jogging   \n",
      "\n",
      "    Pre-exercise systolic blood pressure  \\\n",
      "59                            146.631824   \n",
      "49                            144.147910   \n",
      "69                            140.100093   \n",
      "63                            138.115048   \n",
      "70                            137.698624   \n",
      "\n",
      "    Post-exercise systolic blood pressure  \n",
      "59                             132.570600  \n",
      "49                              97.599501  \n",
      "69                             108.786194  \n",
      "63                             132.251323  \n",
      "70                             115.979333  \n"
     ]
    }
   ],
   "source": [
    "# Sort the dataframe by pre-exercise systolic blood pressure and display the top 5 records\n",
    "top_5 = df.nlargest(5, 'Pre-exercise systolic blood pressure')\n",
    "print(top_5)\n",
    "\n"
   ]
  },
  {
   "cell_type": "markdown",
   "id": "67055030",
   "metadata": {},
   "source": [
    "df.nlargest(5, 'Pre-exercise systolic blood pressure') selects the top 5 rows from the DataFrame df based on the values in the 'Pre-exercise systolic blood pressure' column.\n",
    "\n",
    "\n",
    "    .nlargest(5, 'Pre-exercise systolic blood pressure'): This is a method provided by pandas DataFrame objects that selects the top n rows from the DataFrame based on the values in a specified column, in this case, 'Pre-exercise systolic blood pressure'. The nlargest() function is designed to efficiently retrieve the rows with the largest values in the specified column."
   ]
  },
  {
   "cell_type": "code",
   "execution_count": 48,
   "id": "9d0c87af",
   "metadata": {},
   "outputs": [
    {
     "name": "stdout",
     "output_type": "stream",
     "text": [
      "Average change in blood pressure for each exercise group:\n",
      "Exercise group\n",
      "jogging          3.351721\n",
      "weightlifting   -1.715461\n",
      "yoga             1.088048\n",
      "dtype: float64\n"
     ]
    }
   ],
   "source": [
    "# Compute the average change in blood pressure for each exercise group\n",
    "average_change = df.groupby('Exercise group').apply(lambda x: np.mean(x['Post-exercise systolic blood pressure'] - x['Pre-exercise systolic blood pressure']))\n",
    "print(\"Average change in blood pressure for each exercise group:\")\n",
    "print(average_change)"
   ]
  },
  {
   "cell_type": "markdown",
   "id": "cbac4a07",
   "metadata": {},
   "source": [
    "average_change = df.groupby('Exercise group').apply(lambda x: np.mean(x['Post-exercise systolic blood pressure'] - x['Pre-exercise systolic blood pressure'])) computes the average change in systolic blood pressure for each exercise group in the DataFrame df"
   ]
  },
  {
   "cell_type": "code",
   "execution_count": 49,
   "id": "8932816d",
   "metadata": {},
   "outputs": [
    {
     "name": "stdout",
     "output_type": "stream",
     "text": [
      "Comparison of pre- and post-exercise blood pressure:\n",
      "   Participant ID Exercise group  Pre-exercise systolic blood pressure  \\\n",
      "0              87  weightlifting                            147.837774   \n",
      "1              96           yoga                            144.338481   \n",
      "2              43  weightlifting                            143.743294   \n",
      "3              17  weightlifting                            143.741417   \n",
      "4              73        jogging                            140.433205   \n",
      "\n",
      "   Post-exercise systolic blood pressure_pre  \\\n",
      "0                                 136.837774   \n",
      "1                                 136.338481   \n",
      "2                                 132.743294   \n",
      "3                                 129.741417   \n",
      "4                                 132.433205   \n",
      "\n",
      "   Post-exercise systolic blood pressure_post  \n",
      "0                                  110.336876  \n",
      "1                                  110.574346  \n",
      "2                                  138.078762  \n",
      "3                                  114.534926  \n",
      "4                                  114.908048  \n"
     ]
    }
   ],
   "source": [
    "# Search for the top 5 participants from the pre-exercise data\n",
    "top_5_pre_exercise = sorted_df.head()\n",
    "\n",
    "# Find their post-exercise blood pressure\n",
    "post_exercise_bp = df[df['Participant ID'].isin(top_5_pre_exercise['Participant ID'])][['Participant ID', 'Post-exercise systolic blood pressure']]\n",
    "\n",
    "# Merge pre-exercise and post-exercise data\n",
    "comparison_table = pd.merge(top_5_pre_exercise, post_exercise_bp, on='Participant ID', suffixes=('_pre', '_post'))\n",
    "\n",
    "# Display the comparison table\n",
    "print(\"Comparison of pre- and post-exercise blood pressure:\")\n",
    "print(comparison_table)"
   ]
  },
  {
   "cell_type": "markdown",
   "id": "1524b967",
   "metadata": {},
   "source": [
    " The script extracts data from the five participants with the highest pre-exercise blood pressure, then merges this data with the post-exercise blood pressure measurements.\n",
    "\n",
    "    df['Participant ID'].isin(top_5_pre_exercise['Participant ID']): This part of the code checks if the 'Participant ID' column in the DataFrame df is present in the 'Participant ID' column of another DataFrame or Series top_5_pre_exercise.\n",
    "\n",
    "    [['Participant ID', 'Post-exercise systolic blood pressure']]: This part of the code specifies which columns to include in the filtered DataFrame. It selects the 'Participant ID' and 'Post-exercise systolic blood pressure' columns.\n",
    "    \n",
    "        pd.merge(): This is the function used to merge pandas DataFrames.\n",
    "\n",
    "    suffixes=('_pre', '_post'): This parameter specifies the suffixes to be added to the columns from each DataFrame to distinguish them after the merge operation. In this case, '_pre' will be added to columns from the first DataFrame (top_5_pre_exercise) and '_post' will be added to columns from the second DataFrame (post_exercise_bp)."
   ]
  },
  {
   "cell_type": "code",
   "execution_count": 51,
   "id": "3ff39fa2",
   "metadata": {},
   "outputs": [
    {
     "name": "stdout",
     "output_type": "stream",
     "text": [
      "Measures of central tendency for each exercise group:\n",
      "                      mean       std\n",
      "Exercise group                      \n",
      "jogging         122.178201  7.839167\n",
      "weightlifting   118.951413  9.741809\n",
      "yoga            120.111891  9.631482\n"
     ]
    }
   ],
   "source": [
    "# Compute measures of central tendency for each exercise group\n",
    "measures_of_central_tendency = df.groupby('Exercise group')['Post-exercise systolic blood pressure'].agg(['mean',  'std'])\n",
    "print(\"Measures of central tendency for each exercise group:\")\n",
    "print(measures_of_central_tendency)"
   ]
  },
  {
   "cell_type": "markdown",
   "id": "465c457b",
   "metadata": {},
   "source": [
    "The script uses Pandas to calculate central tendency measures (mean, standard deviation) of post-exercise blood pressure for each group.\n",
    "\n",
    "    The mean is the average value in a dataset.\n",
    "    \n",
    "    Standard deviation measures how spread out your values are from the mean of your dataset. It calculates the typical distance of a data point from the mean.\n",
    "\n",
    "    The mode is the most frequently occurring value in a dataset(I had difficulty calculating the mode)."
   ]
  },
  {
   "cell_type": "code",
   "execution_count": null,
   "id": "13f5a4d0",
   "metadata": {},
   "outputs": [],
   "source": []
  },
  {
   "cell_type": "code",
   "execution_count": null,
   "id": "ba1e2733",
   "metadata": {},
   "outputs": [],
   "source": []
  }
 ],
 "metadata": {
  "kernelspec": {
   "display_name": "Python 3 (ipykernel)",
   "language": "python",
   "name": "python3"
  },
  "language_info": {
   "codemirror_mode": {
    "name": "ipython",
    "version": 3
   },
   "file_extension": ".py",
   "mimetype": "text/x-python",
   "name": "python",
   "nbconvert_exporter": "python",
   "pygments_lexer": "ipython3",
   "version": "3.11.5"
  }
 },
 "nbformat": 4,
 "nbformat_minor": 5
}
